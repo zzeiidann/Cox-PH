{
 "cells": [
  {
   "cell_type": "code",
   "execution_count": 28,
   "metadata": {
    "vscode": {
     "languageId": "r"
    }
   },
   "outputs": [],
   "source": [
    "library(readxl)\n",
    "library(survival)\n",
    "library(survminer)\n",
    "library(KMsurv)\n",
    "library(broom)\n",
    "library(MASS)\n",
    "library(dplyr)\n",
    "library(ggplot2)\n",
    "library(ggpubr)"
   ]
  },
  {
   "cell_type": "code",
   "execution_count": 29,
   "metadata": {
    "vscode": {
     "languageId": "r"
    }
   },
   "outputs": [],
   "source": [
    "data = read_excel('~/Downloads/Heart F.xlsx')"
   ]
  },
  {
   "cell_type": "code",
   "execution_count": 30,
   "metadata": {
    "vscode": {
     "languageId": "r"
    }
   },
   "outputs": [],
   "source": [
    "df <- data[,c('age','diabetes' ,'time', 'DEATH_EVENT')]"
   ]
  },
  {
   "cell_type": "code",
   "execution_count": 31,
   "metadata": {
    "vscode": {
     "languageId": "r"
    }
   },
   "outputs": [
    {
     "data": {
      "text/plain": [
       "  [1]   4    6    7    7    8    8   10   10   10   10   10   10   11   11   12+\n",
       " [16]  13   14   14   15   15   16+  20   20   22+  23   23   24   26   26   26 \n",
       " [31]  27   28   28   29+  29   30   30   30   30+  30   31   32   33   33+  33 \n",
       " [46]  35   38   40   41   42   43   43   43   44   45   50   54+  54+  55   59 \n",
       " [61]  60   60   60+  61   63+  64   65   65   66   67   68+  71+  72   72+  73 \n",
       " [76]  73   74+  74+  74+  74+  75+  76+  77   78+  78   79+  79+  79+  79+  79+\n",
       " [91]  80+  80+  82+  82   83+  83+  83+  85+  85+  86+  87+  87+  87+  87+  87+\n",
       "[106]  88   88+  88+  88+  88+  90   90+  90+  90   91+  91+  94+  94+  94+  95 \n",
       "[121]  95+  95+  95+  95+  96   97+ 100  104+ 104+ 105+ 106+ 107+ 107+ 107+ 107+\n",
       "[136] 107+ 107+ 108+ 108+ 108+ 109  109+ 109+ 110+ 111  112+ 112+ 113+ 113  115+\n",
       "[151] 115  117+ 118+ 119+ 120+ 120+ 120+ 120+ 121+ 121+ 121+ 121+ 123+ 126  129 \n",
       "[166] 130  134+ 135  140+ 145+ 145+ 146+ 146+ 146+ 146+ 146+ 147+ 147+ 147+ 147+\n",
       "[181] 148+ 150  154  162  170  171  172  172  172+ 174+ 174+ 174+ 175+ 180+ 180 \n",
       "[196] 180  185+ 186+ 186+ 186+ 186+ 186+ 186+ 187+ 187+ 187+ 187+ 187+ 187+ 187+\n",
       "[211] 188+ 192+ 192+ 193  194+ 195+ 196+ 196  197+ 197+ 198  200+ 201+ 201+ 205+\n",
       "[226] 205+ 205+ 206+ 207+ 207+ 207  208+ 209+ 209+ 209+ 209+ 209+ 210+ 210+ 211+\n",
       "[241] 212+ 212+ 212+ 213+ 213+ 213+ 214  214+ 214+ 214+ 214+ 215+ 215+ 215+ 215+\n",
       "[256] 216+ 220+ 230+ 230+ 231+ 233+ 233+ 235  237+ 237+ 240+ 241  244+ 244+ 244+\n",
       "[271] 244+ 244+ 245+ 245+ 245+ 245+ 245+ 246+ 246+ 246+ 247+ 250+ 250+ 250+ 250+\n",
       "[286] 250+ 250+ 250+ 256+ 256+ 257+ 258+ 258+ 270+ 270+ 271+ 278+ 280+ 285+"
      ]
     },
     "metadata": {},
     "output_type": "display_data"
    }
   ],
   "source": [
    "Surv(df$time, df$DEATH_EVENT)"
   ]
  },
  {
   "cell_type": "code",
   "execution_count": 32,
   "metadata": {
    "vscode": {
     "languageId": "r"
    }
   },
   "outputs": [],
   "source": [
    "df <- df[df$time <= 32,]"
   ]
  },
  {
   "cell_type": "code",
   "execution_count": 42,
   "metadata": {
    "vscode": {
     "languageId": "r"
    }
   },
   "outputs": [
    {
     "name": "stdout",
     "output_type": "stream",
     "text": [
      "\u001b[90m# A tibble: 11 x 4\u001b[39m\n",
      "     age diabetes  time DEATH_EVENT\n",
      "   \u001b[3m\u001b[90m<dbl>\u001b[39m\u001b[23m    \u001b[3m\u001b[90m<dbl>\u001b[39m\u001b[23m \u001b[3m\u001b[90m<dbl>\u001b[39m\u001b[23m       \u001b[3m\u001b[90m<dbl>\u001b[39m\u001b[23m\n",
      "\u001b[90m 1\u001b[39m    85        0    28           1\n",
      "\u001b[90m 2\u001b[39m    50        1    28           1\n",
      "\u001b[90m 3\u001b[39m    50        1    29           0\n",
      "\u001b[90m 4\u001b[39m    65        1    29           1\n",
      "\u001b[90m 5\u001b[39m    69        1    30           1\n",
      "\u001b[90m 6\u001b[39m    90        1    30           1\n",
      "\u001b[90m 7\u001b[39m    82        1    30           1\n",
      "\u001b[90m 8\u001b[39m    60        1    30           0\n",
      "\u001b[90m 9\u001b[39m    60        1    30           1\n",
      "\u001b[90m10\u001b[39m    70        0    31           1\n",
      "\u001b[90m11\u001b[39m    50        1    32           1\n"
     ]
    }
   ],
   "source": [
    "print(df[32:42,])"
   ]
  },
  {
   "cell_type": "code",
   "execution_count": 45,
   "metadata": {
    "vscode": {
     "languageId": "r"
    }
   },
   "outputs": [
    {
     "data": {
      "text/plain": [
       "\n",
       " 0  1 \n",
       "22 18 "
      ]
     },
     "metadata": {},
     "output_type": "display_data"
    }
   ],
   "source": [
    "table(df[df$time <= 30,]$diabetes)"
   ]
  },
  {
   "cell_type": "code",
   "execution_count": 46,
   "metadata": {
    "vscode": {
     "languageId": "r"
    }
   },
   "outputs": [
    {
     "data": {
      "text/html": [
       "<table class=\"dataframe\">\n",
       "<caption>A tibble: 42 x 4</caption>\n",
       "<thead>\n",
       "\t<tr><th scope=col>age</th><th scope=col>diabetes</th><th scope=col>time</th><th scope=col>DEATH_EVENT</th></tr>\n",
       "\t<tr><th scope=col>&lt;dbl&gt;</th><th scope=col>&lt;dbl&gt;</th><th scope=col>&lt;dbl&gt;</th><th scope=col>&lt;dbl&gt;</th></tr>\n",
       "</thead>\n",
       "<tbody>\n",
       "\t<tr><td>75</td><td>0</td><td> 4</td><td>1</td></tr>\n",
       "\t<tr><td>55</td><td>0</td><td> 6</td><td>1</td></tr>\n",
       "\t<tr><td>65</td><td>0</td><td> 7</td><td>1</td></tr>\n",
       "\t<tr><td>50</td><td>0</td><td> 7</td><td>1</td></tr>\n",
       "\t<tr><td>65</td><td>1</td><td> 8</td><td>1</td></tr>\n",
       "\t<tr><td>90</td><td>0</td><td> 8</td><td>1</td></tr>\n",
       "\t<tr><td>75</td><td>0</td><td>10</td><td>1</td></tr>\n",
       "\t<tr><td>60</td><td>1</td><td>10</td><td>1</td></tr>\n",
       "\t<tr><td>65</td><td>0</td><td>10</td><td>1</td></tr>\n",
       "\t<tr><td>80</td><td>0</td><td>10</td><td>1</td></tr>\n",
       "\t<tr><td>75</td><td>0</td><td>10</td><td>1</td></tr>\n",
       "\t<tr><td>62</td><td>0</td><td>10</td><td>1</td></tr>\n",
       "\t<tr><td>45</td><td>0</td><td>11</td><td>1</td></tr>\n",
       "\t<tr><td>50</td><td>0</td><td>11</td><td>1</td></tr>\n",
       "\t<tr><td>49</td><td>0</td><td>12</td><td>0</td></tr>\n",
       "\t<tr><td>82</td><td>0</td><td>13</td><td>1</td></tr>\n",
       "\t<tr><td>87</td><td>0</td><td>14</td><td>1</td></tr>\n",
       "\t<tr><td>45</td><td>0</td><td>14</td><td>1</td></tr>\n",
       "\t<tr><td>70</td><td>0</td><td>15</td><td>1</td></tr>\n",
       "\t<tr><td>48</td><td>1</td><td>15</td><td>1</td></tr>\n",
       "\t<tr><td>65</td><td>0</td><td>16</td><td>0</td></tr>\n",
       "\t<tr><td>65</td><td>1</td><td>20</td><td>1</td></tr>\n",
       "\t<tr><td>68</td><td>0</td><td>20</td><td>1</td></tr>\n",
       "\t<tr><td>53</td><td>1</td><td>22</td><td>0</td></tr>\n",
       "\t<tr><td>75</td><td>1</td><td>23</td><td>1</td></tr>\n",
       "\t<tr><td>80</td><td>1</td><td>23</td><td>1</td></tr>\n",
       "\t<tr><td>95</td><td>0</td><td>24</td><td>1</td></tr>\n",
       "\t<tr><td>70</td><td>1</td><td>26</td><td>1</td></tr>\n",
       "\t<tr><td>58</td><td>0</td><td>26</td><td>1</td></tr>\n",
       "\t<tr><td>82</td><td>1</td><td>26</td><td>1</td></tr>\n",
       "\t<tr><td>94</td><td>1</td><td>27</td><td>1</td></tr>\n",
       "\t<tr><td>85</td><td>0</td><td>28</td><td>1</td></tr>\n",
       "\t<tr><td>50</td><td>1</td><td>28</td><td>1</td></tr>\n",
       "\t<tr><td>50</td><td>1</td><td>29</td><td>0</td></tr>\n",
       "\t<tr><td>65</td><td>1</td><td>29</td><td>1</td></tr>\n",
       "\t<tr><td>69</td><td>1</td><td>30</td><td>1</td></tr>\n",
       "\t<tr><td>90</td><td>1</td><td>30</td><td>1</td></tr>\n",
       "\t<tr><td>82</td><td>1</td><td>30</td><td>1</td></tr>\n",
       "\t<tr><td>60</td><td>1</td><td>30</td><td>0</td></tr>\n",
       "\t<tr><td>60</td><td>1</td><td>30</td><td>1</td></tr>\n",
       "\t<tr><td>70</td><td>0</td><td>31</td><td>1</td></tr>\n",
       "\t<tr><td>50</td><td>1</td><td>32</td><td>1</td></tr>\n",
       "</tbody>\n",
       "</table>\n"
      ],
      "text/latex": [
       "A tibble: 42 x 4\n",
       "\\begin{tabular}{llll}\n",
       " age & diabetes & time & DEATH\\_EVENT\\\\\n",
       " <dbl> & <dbl> & <dbl> & <dbl>\\\\\n",
       "\\hline\n",
       "\t 75 & 0 &  4 & 1\\\\\n",
       "\t 55 & 0 &  6 & 1\\\\\n",
       "\t 65 & 0 &  7 & 1\\\\\n",
       "\t 50 & 0 &  7 & 1\\\\\n",
       "\t 65 & 1 &  8 & 1\\\\\n",
       "\t 90 & 0 &  8 & 1\\\\\n",
       "\t 75 & 0 & 10 & 1\\\\\n",
       "\t 60 & 1 & 10 & 1\\\\\n",
       "\t 65 & 0 & 10 & 1\\\\\n",
       "\t 80 & 0 & 10 & 1\\\\\n",
       "\t 75 & 0 & 10 & 1\\\\\n",
       "\t 62 & 0 & 10 & 1\\\\\n",
       "\t 45 & 0 & 11 & 1\\\\\n",
       "\t 50 & 0 & 11 & 1\\\\\n",
       "\t 49 & 0 & 12 & 0\\\\\n",
       "\t 82 & 0 & 13 & 1\\\\\n",
       "\t 87 & 0 & 14 & 1\\\\\n",
       "\t 45 & 0 & 14 & 1\\\\\n",
       "\t 70 & 0 & 15 & 1\\\\\n",
       "\t 48 & 1 & 15 & 1\\\\\n",
       "\t 65 & 0 & 16 & 0\\\\\n",
       "\t 65 & 1 & 20 & 1\\\\\n",
       "\t 68 & 0 & 20 & 1\\\\\n",
       "\t 53 & 1 & 22 & 0\\\\\n",
       "\t 75 & 1 & 23 & 1\\\\\n",
       "\t 80 & 1 & 23 & 1\\\\\n",
       "\t 95 & 0 & 24 & 1\\\\\n",
       "\t 70 & 1 & 26 & 1\\\\\n",
       "\t 58 & 0 & 26 & 1\\\\\n",
       "\t 82 & 1 & 26 & 1\\\\\n",
       "\t 94 & 1 & 27 & 1\\\\\n",
       "\t 85 & 0 & 28 & 1\\\\\n",
       "\t 50 & 1 & 28 & 1\\\\\n",
       "\t 50 & 1 & 29 & 0\\\\\n",
       "\t 65 & 1 & 29 & 1\\\\\n",
       "\t 69 & 1 & 30 & 1\\\\\n",
       "\t 90 & 1 & 30 & 1\\\\\n",
       "\t 82 & 1 & 30 & 1\\\\\n",
       "\t 60 & 1 & 30 & 0\\\\\n",
       "\t 60 & 1 & 30 & 1\\\\\n",
       "\t 70 & 0 & 31 & 1\\\\\n",
       "\t 50 & 1 & 32 & 1\\\\\n",
       "\\end{tabular}\n"
      ],
      "text/markdown": [
       "\n",
       "A tibble: 42 x 4\n",
       "\n",
       "| age &lt;dbl&gt; | diabetes &lt;dbl&gt; | time &lt;dbl&gt; | DEATH_EVENT &lt;dbl&gt; |\n",
       "|---|---|---|---|\n",
       "| 75 | 0 |  4 | 1 |\n",
       "| 55 | 0 |  6 | 1 |\n",
       "| 65 | 0 |  7 | 1 |\n",
       "| 50 | 0 |  7 | 1 |\n",
       "| 65 | 1 |  8 | 1 |\n",
       "| 90 | 0 |  8 | 1 |\n",
       "| 75 | 0 | 10 | 1 |\n",
       "| 60 | 1 | 10 | 1 |\n",
       "| 65 | 0 | 10 | 1 |\n",
       "| 80 | 0 | 10 | 1 |\n",
       "| 75 | 0 | 10 | 1 |\n",
       "| 62 | 0 | 10 | 1 |\n",
       "| 45 | 0 | 11 | 1 |\n",
       "| 50 | 0 | 11 | 1 |\n",
       "| 49 | 0 | 12 | 0 |\n",
       "| 82 | 0 | 13 | 1 |\n",
       "| 87 | 0 | 14 | 1 |\n",
       "| 45 | 0 | 14 | 1 |\n",
       "| 70 | 0 | 15 | 1 |\n",
       "| 48 | 1 | 15 | 1 |\n",
       "| 65 | 0 | 16 | 0 |\n",
       "| 65 | 1 | 20 | 1 |\n",
       "| 68 | 0 | 20 | 1 |\n",
       "| 53 | 1 | 22 | 0 |\n",
       "| 75 | 1 | 23 | 1 |\n",
       "| 80 | 1 | 23 | 1 |\n",
       "| 95 | 0 | 24 | 1 |\n",
       "| 70 | 1 | 26 | 1 |\n",
       "| 58 | 0 | 26 | 1 |\n",
       "| 82 | 1 | 26 | 1 |\n",
       "| 94 | 1 | 27 | 1 |\n",
       "| 85 | 0 | 28 | 1 |\n",
       "| 50 | 1 | 28 | 1 |\n",
       "| 50 | 1 | 29 | 0 |\n",
       "| 65 | 1 | 29 | 1 |\n",
       "| 69 | 1 | 30 | 1 |\n",
       "| 90 | 1 | 30 | 1 |\n",
       "| 82 | 1 | 30 | 1 |\n",
       "| 60 | 1 | 30 | 0 |\n",
       "| 60 | 1 | 30 | 1 |\n",
       "| 70 | 0 | 31 | 1 |\n",
       "| 50 | 1 | 32 | 1 |\n",
       "\n"
      ],
      "text/plain": [
       "   age diabetes time DEATH_EVENT\n",
       "1  75  0         4   1          \n",
       "2  55  0         6   1          \n",
       "3  65  0         7   1          \n",
       "4  50  0         7   1          \n",
       "5  65  1         8   1          \n",
       "6  90  0         8   1          \n",
       "7  75  0        10   1          \n",
       "8  60  1        10   1          \n",
       "9  65  0        10   1          \n",
       "10 80  0        10   1          \n",
       "11 75  0        10   1          \n",
       "12 62  0        10   1          \n",
       "13 45  0        11   1          \n",
       "14 50  0        11   1          \n",
       "15 49  0        12   0          \n",
       "16 82  0        13   1          \n",
       "17 87  0        14   1          \n",
       "18 45  0        14   1          \n",
       "19 70  0        15   1          \n",
       "20 48  1        15   1          \n",
       "21 65  0        16   0          \n",
       "22 65  1        20   1          \n",
       "23 68  0        20   1          \n",
       "24 53  1        22   0          \n",
       "25 75  1        23   1          \n",
       "26 80  1        23   1          \n",
       "27 95  0        24   1          \n",
       "28 70  1        26   1          \n",
       "29 58  0        26   1          \n",
       "30 82  1        26   1          \n",
       "31 94  1        27   1          \n",
       "32 85  0        28   1          \n",
       "33 50  1        28   1          \n",
       "34 50  1        29   0          \n",
       "35 65  1        29   1          \n",
       "36 69  1        30   1          \n",
       "37 90  1        30   1          \n",
       "38 82  1        30   1          \n",
       "39 60  1        30   0          \n",
       "40 60  1        30   1          \n",
       "41 70  0        31   1          \n",
       "42 50  1        32   1          "
      ]
     },
     "metadata": {},
     "output_type": "display_data"
    }
   ],
   "source": [
    "df"
   ]
  },
  {
   "cell_type": "code",
   "execution_count": 53,
   "metadata": {
    "vscode": {
     "languageId": "r"
    }
   },
   "outputs": [],
   "source": [
    "df$diabetes <- as.factor(df$diabetes)"
   ]
  },
  {
   "cell_type": "code",
   "execution_count": 55,
   "metadata": {
    "vscode": {
     "languageId": "r"
    }
   },
   "outputs": [
    {
     "name": "stderr",
     "output_type": "stream",
     "text": [
      "Warning message in coxph.fit(X, Y, istrat, offset, init, control, weights = weights, :\n",
      "\"Ran out of iterations and did not converge\"\n"
     ]
    },
    {
     "data": {
      "text/plain": [
       "Call:\n",
       "coxph(formula = Surv(time, DEATH_EVENT) ~ age + diabetes, data = df, \n",
       "    subset = c(1, 42), ties = \"breslow\")\n",
       "\n",
       "  n= 2, number of events= 2 \n",
       "\n",
       "                coef  exp(coef)   se(coef)     z Pr(>|z|)\n",
       "age           0.8162     2.2619  1607.7189 0.001        1\n",
       "diabetes1    -0.7977     0.4504 40192.9699 0.000        1\n",
       "\n",
       "          exp(coef) exp(-coef) lower .95 upper .95\n",
       "age          2.2619     0.4421         0       Inf\n",
       "diabetes1    0.4504     2.2205         0       Inf\n",
       "\n",
       "Concordance= 1  (se = 0 )\n",
       "Likelihood ratio test= 1.39  on 2 df,   p=0.5\n",
       "Wald test            = 0  on 2 df,   p=1\n",
       "Score (logrank) test = 1  on 2 df,   p=0.6\n"
      ]
     },
     "metadata": {},
     "output_type": "display_data"
    }
   ],
   "source": [
    "summary(coxph(Surv(time, DEATH_EVENT) ~ age + diabetes,subset = c(1,42), ties = 'breslow', data=df ))\n"
   ]
  },
  {
   "cell_type": "code",
   "execution_count": null,
   "metadata": {
    "vscode": {
     "languageId": "r"
    }
   },
   "outputs": [],
   "source": []
  }
 ],
 "metadata": {
  "kernelspec": {
   "display_name": "R",
   "language": "R",
   "name": "ir"
  },
  "language_info": {
   "codemirror_mode": "r",
   "file_extension": ".r",
   "mimetype": "text/x-r-source",
   "name": "R",
   "pygments_lexer": "r",
   "version": "4.2.1"
  }
 },
 "nbformat": 4,
 "nbformat_minor": 2
}
